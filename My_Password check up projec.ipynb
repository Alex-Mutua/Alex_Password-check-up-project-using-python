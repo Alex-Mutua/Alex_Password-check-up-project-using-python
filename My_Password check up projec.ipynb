{
 "cells": [
  {
   "cell_type": "markdown",
   "id": "137ed7a9",
   "metadata": {},
   "source": [
    "**Project 2. Check a Password**\n",
    "\n",
    "In this exercise you will write a function that determines whether or not a password is good.\n",
    "We will define a good password to be a one that is at least 8 characters long and contains at\n",
    "least one uppercase letter, at least one lowercase letter, and at least one number.\n",
    "Your function should return True if the password passed to it as its only parameter is good.\n",
    " Otherwise it should return False. Include a main program that reads a password from the user and reports\n",
    "whether or not it is good."
   ]
  },
  {
   "cell_type": "code",
   "execution_count": null,
   "id": "efff6759",
   "metadata": {},
   "outputs": [],
   "source": []
  },
  {
   "cell_type": "code",
   "execution_count": 1,
   "id": "14cb97f1-ffd6-4b44-b300-7b515fc27456",
   "metadata": {},
   "outputs": [
    {
     "name": "stdout",
     "output_type": "stream",
     "text": [
      "Your password is incorrect. You have 2 attempts.\n",
      "Your password is incorrect. You have 1 attempts.\n",
      "Your password is incorrect. You have 0 attempts.\n",
      "You have exhausted the number of attempts.\n"
     ]
    }
   ],
   "source": [
    "def check_password(password):\n",
    "    password = str(password)\n",
    "    lenght = 8 #This is the minimal length of the password\n",
    "    upper = \"ABCDEFGHIJKLMNOPQRSTUVWXYZ\" #This represents the alphabet in uppercase\n",
    "    lower = \"abcdefghijklmnopqrstuvwxyz\" #This represents the alphabet in lowercase\n",
    "    number = \"1234567890\" #This represent the list of digits (0 to 9)\n",
    "    special = \"\"\" .,;:?!+-*/@#$%&()[]{}\\\"'-_=<>~`|^€£¥\"\"\" #This represents the list of special characters\n",
    "    \n",
    "    if len(password) >= lenght: # We verify that the password of the user has at least the minimal length\n",
    "        for i in password:\n",
    "            for j in upper:\n",
    "                if i==j: # We verify if the password has at least 1 uppercase character\n",
    "                    for k in password:\n",
    "                        for l in lower:\n",
    "                            if k==l: # We verify if the password has at least 1 lowercase character\n",
    "                                for m in password:\n",
    "                                    for n in number:\n",
    "                                        if m==n: # We verify if the password has at least 1 digit\n",
    "                                            for o in special:\n",
    "                                                for p in password:\n",
    "                                                    if o==p: # We verify if the password has at least 1 special character\n",
    "                                                        return True #We return True if all the conditions are verified for this password\n",
    "    return False #If not We return False\n",
    "                \n",
    "\n",
    "\n",
    "if __name__==\"__main__\":\n",
    "    essai = 3 \n",
    "    while essai > 0: # The user can try to enter the password just 3 times\n",
    "        pswd = input(\"Enter your password\")\n",
    "        if check_password(pswd):\n",
    "            print(\"Your password is good.\")\n",
    "            break\n",
    "        else:\n",
    "            essai -= 1\n",
    "            print(f\"Your password is incorrect. You have {essai} attempts.\")\n",
    "    if essai==0:\n",
    "        print(\"You have exhausted the number of attempts.\")\n",
    "\n"
   ]
  },
  {
   "cell_type": "markdown",
   "id": "2876ed01",
   "metadata": {},
   "source": [
    "## The second version of the code using dictionaries to reduce loop"
   ]
  },
  {
   "cell_type": "code",
   "execution_count": null,
   "id": "4c680eab",
   "metadata": {},
   "outputs": [],
   "source": []
  },
  {
   "cell_type": "code",
   "execution_count": null,
   "id": "47e2b89b-466e-4312-8533-be8c07f802bd",
   "metadata": {},
   "outputs": [],
   "source": [
    "def check_password(password):\n",
    "    password = str(password)\n",
    "    lenght = 8 #This is the minimal length of the password\n",
    "    characters = {'upper':\"A B C D E F G H I J K L M N O P Q R S T U V W X Y Z\", 'lower':\"a b c d e f g h i j k l m n o p q r s t u v w x y z\", 'number':\"1 2 3 4 5 6 7 8 9 0\", 'special':\"\"\" . , ; : ? ! + - * / @ # $ % & ( ) [ ] { } \\ \" ' - _ = < > ~ ` | ^ € £ ¥ \"\"\" }\n",
    "    \n",
    "    has_upper = has_lower = has_number = has_special = False\n",
    "    \n",
    "    if len(password) < lenght: # We verify that the password of the user has at least the minimal length\n",
    "        return False\n",
    "    \n",
    "    for a in password:\n",
    "        if a in characters['upper'].split(' '):\n",
    "            has_upper = True\n",
    "        elif a in characters['lower'].split(' '):\n",
    "            has_lower = True\n",
    "        elif a in characters['number'].split(' '):\n",
    "            has_number = True\n",
    "        elif a in characters['special'].split(' '):\n",
    "            has_special = True\n",
    "    \n",
    "    if has_upper and has_lower and has_number and has_special: #If all the conditions are verified, we return True\n",
    "       return True\n",
    "    \n",
    "    return False #If not We return False\n",
    "                \n",
    "                \n",
    "if __name__==\"__main__\":\n",
    "    essai = 3 \n",
    "    while essai > 0: # The user can try to enter the password just 3 times\n",
    "        pswd = input(\"Enter your password\")\n",
    "        if check_password(pswd):\n",
    "            print(\"Your password is good.\")\n",
    "            break\n",
    "        else:\n",
    "            essai -= 1\n",
    "            print(f\"Your password is incorrect. You have {essai} attempts.\")\n",
    "    if essai==0:\n",
    "        print(\"You have exhausted the number of attempts.\")"
   ]
  }
 ],
 "metadata": {
  "kernelspec": {
   "display_name": "alex_env",
   "language": "python",
   "name": "python3"
  },
  "language_info": {
   "codemirror_mode": {
    "name": "ipython",
    "version": 3
   },
   "file_extension": ".py",
   "mimetype": "text/x-python",
   "name": "python",
   "nbconvert_exporter": "python",
   "pygments_lexer": "ipython3",
   "version": "3.13.0"
  }
 },
 "nbformat": 4,
 "nbformat_minor": 5
}
